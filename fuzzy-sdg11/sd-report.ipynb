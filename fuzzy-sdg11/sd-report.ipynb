{
 "cells": [
  {
   "cell_type": "markdown",
   "metadata": {},
   "source": [
    "# Sustainable Development Report 2022 Data Exploration\n",
    "\n",
    "[![Open in Colab](https://colab.research.google.com/assets/colab-badge.svg)](https://colab.research.google.com/github/marialonsogar/fuzzy-compliance-SDG11/blob/main/fuzzy-sdg11/sd-report.ipynb)"
   ]
  },
  {
   "cell_type": "markdown",
   "metadata": {},
   "source": [
    "# Table of contents\n",
    "* [1. Introduction](#chapter1)\n",
    "  * [1.1 Data source](#section1_1)\n",
    "* [2. Requirements](#chapter2)\n",
    "* [3. Exploration](#chapter3)\n",
    "  * [3.1. 'About' Data](#chapter3_1)\n",
    "  * [3.2. 'Codebook' Data](#chapter3_2)\n",
    "  * [3.3. SDR2022 Data](#chapter3_3)\n",
    "* [Summary](#summary)"
   ]
  },
  {
   "cell_type": "markdown",
   "metadata": {},
   "source": [
    "# Introduction<a class=\"anchor\" id=\"chapter1\"></a>\n",
    "\n",
    "The Sustainable Development Report assesses the progress of all 193 UN Member States on the SDGs\n",
    "\n",
    "2. descripcion sdg11 \n",
    "## motivation\n",
    "\n",
    "## Data source <a class=\"anchor\" id=\"section1_1\"></a>\n",
    "\n",
    "- The report, dashboard, country profiles and more related information can be downloaded and found at the following link: [https://dashboards.sdgindex.org/](https://dashboards.sdgindex.org/).\n",
    "- The database of the Sustainable Development Report 2022 contains the SDG Index rankings, overall scores, spillover scores, dashboards and trends for all 17 SDGs and all 100+ indicators. The Codebook sheet lists indicator metadata and sources. The link to download data: [https://dashboards.sdgindex.org/static/downloads/files/SDR-2022-database.xlsx](https://dashboards.sdgindex.org/static/downloads/files/SDR-2022-database.xlsx)"
   ]
  },
  {
   "cell_type": "markdown",
   "metadata": {},
   "source": [
    "# Requirements <a class=\"anchor\" id=\"chapter2\"></a>"
   ]
  },
  {
   "cell_type": "code",
   "execution_count": 1,
   "metadata": {},
   "outputs": [],
   "source": [
    "import pandas as pd\n",
    "import numpy as np\n",
    "import itertools\n",
    "\n",
    "# filter warnings\n",
    "import warnings\n",
    "warnings.filterwarnings('ignore')"
   ]
  },
  {
   "cell_type": "markdown",
   "metadata": {},
   "source": [
    "# Exploration <a class=\"anchor\" id=\"chapter3\"></a>\n",
    "\n",
    "The objective is to prepare a table with information related exclusively to SDG11."
   ]
  },
  {
   "cell_type": "code",
   "execution_count": 2,
   "metadata": {},
   "outputs": [],
   "source": [
    "# downloaded data saved in the repository\n",
    "report_path = './data/raw-data/SDR-2022-database.xlsx'\n"
   ]
  },
  {
   "cell_type": "code",
   "execution_count": 3,
   "metadata": {},
   "outputs": [
    {
     "name": "stdout",
     "output_type": "stream",
     "text": [
      "['About', 'Overview', 'Codebook', 'SDR2022 Data', 'Raw Data', 'Raw Data - Trend Indicators', 'Backdated SDG Index']\n"
     ]
    }
   ],
   "source": [
    "# check sheet names in the excel data to read individual sheets later\n",
    "full_data = pd.ExcelFile(report_path)\n",
    "print(full_data.sheet_names)\n"
   ]
  },
  {
   "cell_type": "markdown",
   "metadata": {},
   "source": [
    "## 'About' Data <a class=\"anchor\" id=\"chapter3_1\"></a>"
   ]
  },
  {
   "cell_type": "markdown",
   "metadata": {},
   "source": [
    "The first step is to explore the data. We extract the relevant information from the 'About' sheet, which in particular describes the content of the other sheets."
   ]
  },
  {
   "cell_type": "code",
   "execution_count": 4,
   "metadata": {},
   "outputs": [
    {
     "name": "stdout",
     "output_type": "stream",
     "text": [
      "* Codebook ->  List of indicators, bounds and thresholds \n",
      "\n",
      "* SDR2022 Data ->  The SDR2022 data for all countries; includes spillover score, raw values, normalized scores, dashboard ratings, trends & goal scores. \n",
      "\n",
      "* Raw Data ->  Raw data for all countries by indicator \n",
      "\n",
      "* Raw Data - Trend inds ->  Panel data used for generating trend analysis \n",
      "\n",
      "* Backdated SDG Index ->  The SDG Index Score, and all goal and indicator scores, retroactively calculated across time using time series data that was carried forward in years with missing data. \n",
      "\n"
     ]
    }
   ],
   "source": [
    "# dataframe with the overall data info\n",
    "about_df = pd.read_excel(full_data, 'About')\n",
    "\n",
    "# indexs of relevant info (sheets descriptions and citation)\n",
    "description_indexs = list(range(3, 8))\n",
    "citation_indexs = 36\n",
    "\n",
    "# print descriptions of the sheets\n",
    "for i in description_indexs:\n",
    "    print('*', about_df.iloc[i, 0], '-> ', str(about_df.iloc[i, 1]), '\\n')\n"
   ]
  },
  {
   "cell_type": "markdown",
   "metadata": {},
   "source": [
    "## 'Codebook' Data <a class=\"anchor\" id=\"chapter3_2\"></a>\n",
    "Firstly, the Codebook sheet is checked by filtering by SDG 11 to find out which variables are currently used to measure it. From the data collected in this table, we will be particularly interested in the following fields: \n",
    "- `['IndCode', 'SDG', 'Indicator', 'Reference Year',\n",
    "                     'Optimum (= 100)', 'Green threshold', 'Red threshold',\n",
    "                     'Lower Bound (=0)', 'Justification for Optimum',\n",
    "                     'Description', 'Imputation']`\n"
   ]
  },
  {
   "cell_type": "code",
   "execution_count": 5,
   "metadata": {},
   "outputs": [
    {
     "data": {
      "text/html": [
       "<div>\n",
       "<style scoped>\n",
       "    .dataframe tbody tr th:only-of-type {\n",
       "        vertical-align: middle;\n",
       "    }\n",
       "\n",
       "    .dataframe tbody tr th {\n",
       "        vertical-align: top;\n",
       "    }\n",
       "\n",
       "    .dataframe thead th {\n",
       "        text-align: right;\n",
       "    }\n",
       "</style>\n",
       "<table border=\"1\" class=\"dataframe\">\n",
       "  <thead>\n",
       "    <tr style=\"text-align: right;\">\n",
       "      <th></th>\n",
       "      <th>IndCode</th>\n",
       "      <th>SDG</th>\n",
       "      <th>Indicator</th>\n",
       "      <th>Reference Year</th>\n",
       "      <th>Optimum (= 100)</th>\n",
       "      <th>Green threshold</th>\n",
       "      <th>Red threshold</th>\n",
       "      <th>Lower Bound (=0)</th>\n",
       "      <th>Justification for Optimum</th>\n",
       "      <th>Description</th>\n",
       "      <th>Imputation</th>\n",
       "    </tr>\n",
       "  </thead>\n",
       "  <tbody>\n",
       "    <tr>\n",
       "      <th>74</th>\n",
       "      <td>sdg11_slums</td>\n",
       "      <td>11</td>\n",
       "      <td>Proportion of urban population living in slums...</td>\n",
       "      <td>2018</td>\n",
       "      <td>0.0</td>\n",
       "      <td>5.0</td>\n",
       "      <td>25.0</td>\n",
       "      <td>90.0</td>\n",
       "      <td>Leave no one behind</td>\n",
       "      <td>Population living in slums is the proportion o...</td>\n",
       "      <td>We assumed 0% population living in slums for h...</td>\n",
       "    </tr>\n",
       "    <tr>\n",
       "      <th>75</th>\n",
       "      <td>sdg11_pm25</td>\n",
       "      <td>11</td>\n",
       "      <td>Annual mean concentration of particulate matte...</td>\n",
       "      <td>2019</td>\n",
       "      <td>6.3</td>\n",
       "      <td>10.0</td>\n",
       "      <td>25.0</td>\n",
       "      <td>87.0</td>\n",
       "      <td>Average of best performers</td>\n",
       "      <td>Air pollution measured as the population-weigh...</td>\n",
       "      <td>NaN</td>\n",
       "    </tr>\n",
       "    <tr>\n",
       "      <th>76</th>\n",
       "      <td>sdg11_pipedwat</td>\n",
       "      <td>11</td>\n",
       "      <td>Access to improved water source, piped (% of u...</td>\n",
       "      <td>2020</td>\n",
       "      <td>100.0</td>\n",
       "      <td>98.0</td>\n",
       "      <td>75.0</td>\n",
       "      <td>6.1</td>\n",
       "      <td>Leave no one behind</td>\n",
       "      <td>The percentage of the urban population with ac...</td>\n",
       "      <td>NaN</td>\n",
       "    </tr>\n",
       "    <tr>\n",
       "      <th>77</th>\n",
       "      <td>sdg11_transport</td>\n",
       "      <td>11</td>\n",
       "      <td>Satisfaction with public transport (%)</td>\n",
       "      <td>2021</td>\n",
       "      <td>82.6</td>\n",
       "      <td>72.0</td>\n",
       "      <td>43.0</td>\n",
       "      <td>21.0</td>\n",
       "      <td>Average of best performers</td>\n",
       "      <td>The percentage of the surveyed population that...</td>\n",
       "      <td>NaN</td>\n",
       "    </tr>\n",
       "    <tr>\n",
       "      <th>78</th>\n",
       "      <td>sdg11_rentover</td>\n",
       "      <td>11</td>\n",
       "      <td>Population with rent overburden (%)</td>\n",
       "      <td>2019</td>\n",
       "      <td>4.6</td>\n",
       "      <td>7.0</td>\n",
       "      <td>17.0</td>\n",
       "      <td>25.6</td>\n",
       "      <td>Average of best performers</td>\n",
       "      <td>Percentage of the population living in househo...</td>\n",
       "      <td>NaN</td>\n",
       "    </tr>\n",
       "  </tbody>\n",
       "</table>\n",
       "</div>"
      ],
      "text/plain": [
       "            IndCode  SDG                                          Indicator  \\\n",
       "74      sdg11_slums   11  Proportion of urban population living in slums...   \n",
       "75       sdg11_pm25   11  Annual mean concentration of particulate matte...   \n",
       "76   sdg11_pipedwat   11  Access to improved water source, piped (% of u...   \n",
       "77  sdg11_transport   11             Satisfaction with public transport (%)   \n",
       "78   sdg11_rentover   11                Population with rent overburden (%)   \n",
       "\n",
       "    Reference Year  Optimum (= 100)  Green threshold  Red threshold  \\\n",
       "74            2018              0.0              5.0           25.0   \n",
       "75            2019              6.3             10.0           25.0   \n",
       "76            2020            100.0             98.0           75.0   \n",
       "77            2021             82.6             72.0           43.0   \n",
       "78            2019              4.6              7.0           17.0   \n",
       "\n",
       "    Lower Bound (=0)   Justification for Optimum  \\\n",
       "74              90.0         Leave no one behind   \n",
       "75              87.0  Average of best performers   \n",
       "76               6.1         Leave no one behind   \n",
       "77              21.0  Average of best performers   \n",
       "78              25.6  Average of best performers   \n",
       "\n",
       "                                          Description  \\\n",
       "74  Population living in slums is the proportion o...   \n",
       "75  Air pollution measured as the population-weigh...   \n",
       "76  The percentage of the urban population with ac...   \n",
       "77  The percentage of the surveyed population that...   \n",
       "78  Percentage of the population living in househo...   \n",
       "\n",
       "                                           Imputation  \n",
       "74  We assumed 0% population living in slums for h...  \n",
       "75                                                NaN  \n",
       "76                                                NaN  \n",
       "77                                                NaN  \n",
       "78                                                NaN  "
      ]
     },
     "metadata": {},
     "output_type": "display_data"
    }
   ],
   "source": [
    "codebook = pd.read_excel(full_data, 'Codebook')\n",
    "\n",
    "# filter codebook by SDG==11\n",
    "codebook_11 = codebook[codebook['SDG'] == 11]\n",
    "\n",
    "# select columns\n",
    "codebook_11 = codebook_11[['IndCode', 'SDG', 'Indicator', 'Reference Year',\n",
    "                     'Optimum (= 100)', 'Green threshold', 'Red threshold',\n",
    "                     'Lower Bound (=0)', 'Justification for Optimum',\n",
    "                     'Description', 'Imputation']]\n",
    "display(codebook_11)\n"
   ]
  },
  {
   "cell_type": "markdown",
   "metadata": {},
   "source": [
    "From the above, let us derive each indicator and its associated description."
   ]
  },
  {
   "cell_type": "code",
   "execution_count": 6,
   "metadata": {},
   "outputs": [
    {
     "name": "stdout",
     "output_type": "stream",
     "text": [
      "* Proportion of urban population living in slums (%) -> Population living in slums is the proportion of the urban population living in slum households. A slum household is defined as a group of individuals living under the same roof lacking one or more of the following conditions: access to improved water, access to improved sanitation, sufficient living area, housing durability, and security of tenur \n",
      "\n",
      "* Annual mean concentration of particulate matter of less than 2.5 microns in diameter (PM2.5) (μg/m³) -> Air pollution measured as the population-weighted mean annual concentration of PM2.5 for the urban population in a country. PM2.5 is suspended particles measuring less than 2.5 microns in aerodynamic diameter, which are capable of penetrating deep into the respiratory tract and can cause severe health damage. \n",
      "\n",
      "* Access to improved water source, piped (% of urban population) -> The percentage of the urban population with access to improved drinking water piped on premises. An \"improved\" drinking-water source is one that, by the nature of its construction and when properly used, adequately protects the source from outside contamination, particularly fecal matter. \n",
      "\n",
      "* Satisfaction with public transport (%) -> The percentage of the surveyed population that responded \"satisfied\" to the question \"In the city or area where you live, are you satisfied or dissatisfied with the public transportation systems?\". \n",
      "\n",
      "* Population with rent overburden (%) -> Percentage of the population living in households where the total housing costs represent more than 40 % of disposable income. \n",
      "\n",
      "Reference and Citation :  Sachs, J., Lafortune, G., Kroll, C., Fuller, G., Woelm, F., (2022). From Crisis to Sustainable Development: the SDGs as Roadmap to 2030 and Beyond. Sustainable Development Report 2022. Cambridge: Cambridge University Press.\n"
     ]
    }
   ],
   "source": [
    "# for each row of codebook_11, print the indicator and description\n",
    "for i in range(len(codebook_11)):\n",
    "    print('*', codebook_11.iloc[i, 2], '->', codebook_11.iloc[i, 9], '\\n')\n",
    "\n",
    "# print the citation\n",
    "print(about_df.iloc[36, 1])"
   ]
  },
  {
   "cell_type": "markdown",
   "metadata": {},
   "source": [
    "In addition, from this table we can extract the ranges that will define the fuzzy variables defined later, as well as the minimum and maximum limits. Finally, the missing values of the first indicator are imputed as follows: 'We assumed 0% population living in slums for high-income OECD members for which no data was reported.'. No further imputation method is defined.\n",
    "\n",
    "This table is saved below to './data/processed-data/' folder for further information. "
   ]
  },
  {
   "cell_type": "code",
   "execution_count": 7,
   "metadata": {},
   "outputs": [],
   "source": [
    "codebook_11.to_csv('./data/processed-data/sdg-variable-thresholds', index=False)"
   ]
  },
  {
   "cell_type": "markdown",
   "metadata": {},
   "source": [
    "## SDR2022 Data <a class=\"anchor\" id=\"chapter3_3\"></a>\n",
    "\n",
    "The SDR2022 data for all countries is studied now to get their indicators values, scores, etc. "
   ]
  },
  {
   "cell_type": "code",
   "execution_count": 8,
   "metadata": {},
   "outputs": [
    {
     "data": {
      "text/html": [
       "<div>\n",
       "<style scoped>\n",
       "    .dataframe tbody tr th:only-of-type {\n",
       "        vertical-align: middle;\n",
       "    }\n",
       "\n",
       "    .dataframe tbody tr th {\n",
       "        vertical-align: top;\n",
       "    }\n",
       "\n",
       "    .dataframe thead th {\n",
       "        text-align: right;\n",
       "    }\n",
       "</style>\n",
       "<table border=\"1\" class=\"dataframe\">\n",
       "  <thead>\n",
       "    <tr style=\"text-align: right;\">\n",
       "      <th></th>\n",
       "      <th>Country Code ISO3</th>\n",
       "      <th>Country</th>\n",
       "      <th>Goal 11 Score</th>\n",
       "      <th>Goal 11 Dash</th>\n",
       "      <th>Proportion of urban population living in slums (%)</th>\n",
       "      <th>Annual mean concentration of particulate matter of less than 2.5 microns in diam</th>\n",
       "      <th>Access to improved water source, piped (% of urban population)</th>\n",
       "      <th>Satisfaction with public transport (%)</th>\n",
       "      <th>Population with rent overburden (%)</th>\n",
       "    </tr>\n",
       "  </thead>\n",
       "  <tbody>\n",
       "    <tr>\n",
       "      <th>44</th>\n",
       "      <td>DEU</td>\n",
       "      <td>Germany</td>\n",
       "      <td>90.908250</td>\n",
       "      <td>yellow</td>\n",
       "      <td>0.0</td>\n",
       "      <td>11.281</td>\n",
       "      <td>100.000</td>\n",
       "      <td>64.0</td>\n",
       "      <td>4.154</td>\n",
       "    </tr>\n",
       "    <tr>\n",
       "      <th>69</th>\n",
       "      <td>GRD</td>\n",
       "      <td>Grenada</td>\n",
       "      <td>NaN</td>\n",
       "      <td>grey</td>\n",
       "      <td>NaN</td>\n",
       "      <td>21.426</td>\n",
       "      <td>NaN</td>\n",
       "      <td>NaN</td>\n",
       "      <td>NaN</td>\n",
       "    </tr>\n",
       "    <tr>\n",
       "      <th>162</th>\n",
       "      <td>SVN</td>\n",
       "      <td>Slovenia</td>\n",
       "      <td>84.023333</td>\n",
       "      <td>yellow</td>\n",
       "      <td>0.0</td>\n",
       "      <td>15.372</td>\n",
       "      <td>NaN</td>\n",
       "      <td>60.0</td>\n",
       "      <td>3.391</td>\n",
       "    </tr>\n",
       "    <tr>\n",
       "      <th>35</th>\n",
       "      <td>COD</td>\n",
       "      <td>Congo, Dem. Rep.</td>\n",
       "      <td>40.786000</td>\n",
       "      <td>red</td>\n",
       "      <td>80.4</td>\n",
       "      <td>42.845</td>\n",
       "      <td>67.411</td>\n",
       "      <td>41.0</td>\n",
       "      <td>NaN</td>\n",
       "    </tr>\n",
       "    <tr>\n",
       "      <th>183</th>\n",
       "      <td>UZB</td>\n",
       "      <td>Uzbekistan</td>\n",
       "      <td>74.194000</td>\n",
       "      <td>red</td>\n",
       "      <td>58.5</td>\n",
       "      <td>26.904</td>\n",
       "      <td>88.082</td>\n",
       "      <td>84.0</td>\n",
       "      <td>NaN</td>\n",
       "    </tr>\n",
       "  </tbody>\n",
       "</table>\n",
       "</div>"
      ],
      "text/plain": [
       "    Country Code ISO3           Country  Goal 11 Score Goal 11 Dash  \\\n",
       "44                DEU           Germany      90.908250       yellow   \n",
       "69                GRD           Grenada            NaN         grey   \n",
       "162               SVN          Slovenia      84.023333       yellow   \n",
       "35                COD  Congo, Dem. Rep.      40.786000          red   \n",
       "183               UZB        Uzbekistan      74.194000          red   \n",
       "\n",
       "     Proportion of urban population living in slums (%)  \\\n",
       "44                                                 0.0    \n",
       "69                                                 NaN    \n",
       "162                                                0.0    \n",
       "35                                                80.4    \n",
       "183                                               58.5    \n",
       "\n",
       "     Annual mean concentration of particulate matter of less than 2.5 microns in diam  \\\n",
       "44                                              11.281                                  \n",
       "69                                              21.426                                  \n",
       "162                                             15.372                                  \n",
       "35                                              42.845                                  \n",
       "183                                             26.904                                  \n",
       "\n",
       "     Access to improved water source, piped (% of urban population)  \\\n",
       "44                                             100.000                \n",
       "69                                                 NaN                \n",
       "162                                                NaN                \n",
       "35                                              67.411                \n",
       "183                                             88.082                \n",
       "\n",
       "     Satisfaction with public transport (%)  \\\n",
       "44                                     64.0   \n",
       "69                                      NaN   \n",
       "162                                    60.0   \n",
       "35                                     41.0   \n",
       "183                                    84.0   \n",
       "\n",
       "     Population with rent overburden (%)  \n",
       "44                                 4.154  \n",
       "69                                   NaN  \n",
       "162                                3.391  \n",
       "35                                   NaN  \n",
       "183                                  NaN  "
      ]
     },
     "execution_count": 8,
     "metadata": {},
     "output_type": "execute_result"
    }
   ],
   "source": [
    "sdr = pd.read_excel(full_data, 'SDR2022 Data')\n",
    "\n",
    "# select important columns\n",
    "country_info = ['Country Code ISO3',\n",
    "                'Country', 'Goal 11 Score', 'Goal 11 Dash']\n",
    "\n",
    "# sdg indicators\n",
    "sdg_11_indicators = ['Proportion of urban population living in slums (%)',\n",
    "                     'Annual mean concentration of particulate matter of less than 2.5 microns in diam',\n",
    "                     'Access to improved water source, piped (% of urban population)',\n",
    "                     'Satisfaction with public transport (%)',\n",
    "                     'Population with rent overburden (%)']\n",
    "\n",
    "# list with column names of sdr if column contains 'sdg11'\n",
    "sdg_11_info = [col for col in sdr.columns if 'sdg11' in col]\n",
    "# remove from list above names containing one of ['Trend', 'Imputation', 'Year', 'Normalized', 'Dashboard']\n",
    "sdg_11_info = [col for col in sdg_11_info if not any(x in col for x in ['Trend', 'Imputation', 'Year',\n",
    "                                                                        'Normalized',\n",
    "                                                                        'Dashboard'])]\n",
    "\n",
    "# selected columns\n",
    "country_info.extend(sdg_11_indicators)\n",
    "country_info.extend(sdg_11_info)\n",
    "\n",
    "# delete codes begining with _ (they are not countries)\n",
    "sdr = sdr[~sdr['Country Code ISO3'].str.startswith('_')]\n",
    "\n",
    "sdr = sdr[country_info]\n",
    "sdr.sample(5, random_state=1)\n"
   ]
  },
  {
   "cell_type": "code",
   "execution_count": 9,
   "metadata": {},
   "outputs": [],
   "source": [
    "# save sdr to csv\n",
    "sdr.to_csv('./data/processed-data/sdg_11.csv', index=False)\n"
   ]
  },
  {
   "cell_type": "markdown",
   "metadata": {},
   "source": [
    "We need to know the missing values, how many countries have complete data and how many do not, and which variables they collect, etc. Below we define a table with the percentage of countries that have a combination of indicators available."
   ]
  },
  {
   "cell_type": "code",
   "execution_count": 10,
   "metadata": {},
   "outputs": [
    {
     "data": {
      "text/html": [
       "<div>\n",
       "<style scoped>\n",
       "    .dataframe tbody tr th:only-of-type {\n",
       "        vertical-align: middle;\n",
       "    }\n",
       "\n",
       "    .dataframe tbody tr th {\n",
       "        vertical-align: top;\n",
       "    }\n",
       "\n",
       "    .dataframe thead th {\n",
       "        text-align: right;\n",
       "    }\n",
       "</style>\n",
       "<table border=\"1\" class=\"dataframe\">\n",
       "  <thead>\n",
       "    <tr style=\"text-align: right;\">\n",
       "      <th></th>\n",
       "      <th>Indicators</th>\n",
       "      <th>Percentage</th>\n",
       "      <th>Number of countries</th>\n",
       "      <th>Countries</th>\n",
       "    </tr>\n",
       "  </thead>\n",
       "  <tbody>\n",
       "    <tr>\n",
       "      <th>0</th>\n",
       "      <td>${\\nu_2}$</td>\n",
       "      <td>5.18 %</td>\n",
       "      <td>10</td>\n",
       "      <td>7                 Antigua and Barbuda\n",
       "18      ...</td>\n",
       "    </tr>\n",
       "    <tr>\n",
       "      <th>1</th>\n",
       "      <td>${\\nu_3}$</td>\n",
       "      <td>0.52 %</td>\n",
       "      <td>1</td>\n",
       "      <td>112    Marshall Islands\n",
       "Name: Country, dtype: ...</td>\n",
       "    </tr>\n",
       "    <tr>\n",
       "      <th>2</th>\n",
       "      <td>${\\nu_2, \\nu_3}$</td>\n",
       "      <td>7.77 %</td>\n",
       "      <td>15</td>\n",
       "      <td>3                Andorra\n",
       "25     Brunei Darussa...</td>\n",
       "    </tr>\n",
       "    <tr>\n",
       "      <th>3</th>\n",
       "      <td>${\\nu_2, \\nu_4}$</td>\n",
       "      <td>3.63 %</td>\n",
       "      <td>7</td>\n",
       "      <td>4      United Arab Emirates\n",
       "17                ...</td>\n",
       "    </tr>\n",
       "    <tr>\n",
       "      <th>4</th>\n",
       "      <td>${\\nu_1, \\nu_2, \\nu_3}$</td>\n",
       "      <td>3.11 %</td>\n",
       "      <td>6</td>\n",
       "      <td>57                      Fiji\n",
       "66             Gu...</td>\n",
       "    </tr>\n",
       "    <tr>\n",
       "      <th>5</th>\n",
       "      <td>${\\nu_1, \\nu_2, \\nu_4}$</td>\n",
       "      <td>1.04 %</td>\n",
       "      <td>2</td>\n",
       "      <td>174    Trinidad and Tobago\n",
       "185          Venezu...</td>\n",
       "    </tr>\n",
       "    <tr>\n",
       "      <th>6</th>\n",
       "      <td>${\\nu_2, \\nu_3, \\nu_4}$</td>\n",
       "      <td>9.33 %</td>\n",
       "      <td>18</td>\n",
       "      <td>10             Azerbaijan\n",
       "16               Bul...</td>\n",
       "    </tr>\n",
       "    <tr>\n",
       "      <th>7</th>\n",
       "      <td>${\\nu_1, \\nu_2, \\nu_3, \\nu_4}$</td>\n",
       "      <td>51.81 %</td>\n",
       "      <td>100</td>\n",
       "      <td>0       Afghanistan\n",
       "1            Angola\n",
       "2     ...</td>\n",
       "    </tr>\n",
       "    <tr>\n",
       "      <th>8</th>\n",
       "      <td>${\\nu_1, \\nu_2, \\nu_4, \\nu_5}$</td>\n",
       "      <td>2.59 %</td>\n",
       "      <td>5</td>\n",
       "      <td>9          Austria\n",
       "83           Italy\n",
       "86      ...</td>\n",
       "    </tr>\n",
       "    <tr>\n",
       "      <th>9</th>\n",
       "      <td>${\\nu_1, \\nu_2, \\nu_3, \\nu_4, \\nu_5}$</td>\n",
       "      <td>14.51 %</td>\n",
       "      <td>28</td>\n",
       "      <td>8            Australia\n",
       "12             Belgium\n",
       "...</td>\n",
       "    </tr>\n",
       "  </tbody>\n",
       "</table>\n",
       "</div>"
      ],
      "text/plain": [
       "                              Indicators Percentage Number of countries  \\\n",
       "0                              ${\\nu_2}$     5.18 %                  10   \n",
       "1                              ${\\nu_3}$     0.52 %                   1   \n",
       "2                       ${\\nu_2, \\nu_3}$     7.77 %                  15   \n",
       "3                       ${\\nu_2, \\nu_4}$     3.63 %                   7   \n",
       "4                ${\\nu_1, \\nu_2, \\nu_3}$     3.11 %                   6   \n",
       "5                ${\\nu_1, \\nu_2, \\nu_4}$     1.04 %                   2   \n",
       "6                ${\\nu_2, \\nu_3, \\nu_4}$     9.33 %                  18   \n",
       "7         ${\\nu_1, \\nu_2, \\nu_3, \\nu_4}$    51.81 %                 100   \n",
       "8         ${\\nu_1, \\nu_2, \\nu_4, \\nu_5}$     2.59 %                   5   \n",
       "9  ${\\nu_1, \\nu_2, \\nu_3, \\nu_4, \\nu_5}$    14.51 %                  28   \n",
       "\n",
       "                                           Countries  \n",
       "0  7                 Antigua and Barbuda\n",
       "18      ...  \n",
       "1  112    Marshall Islands\n",
       "Name: Country, dtype: ...  \n",
       "2  3                Andorra\n",
       "25     Brunei Darussa...  \n",
       "3  4      United Arab Emirates\n",
       "17                ...  \n",
       "4  57                      Fiji\n",
       "66             Gu...  \n",
       "5  174    Trinidad and Tobago\n",
       "185          Venezu...  \n",
       "6  10             Azerbaijan\n",
       "16               Bul...  \n",
       "7  0       Afghanistan\n",
       "1            Angola\n",
       "2     ...  \n",
       "8  9          Austria\n",
       "83           Italy\n",
       "86      ...  \n",
       "9  8            Australia\n",
       "12             Belgium\n",
       "...  "
      ]
     },
     "metadata": {},
     "output_type": "display_data"
    }
   ],
   "source": [
    "def table_percentage_countries_combination_indicators():\n",
    "    \"\"\"Table with the percentage of countries that have a value for each combination of indicators\"\"\"\n",
    "    # define consistent notation with the article\n",
    "    sdg_11_indicators_notation = [f'\\\\nu_{i}' for i in range(1, 6)]\n",
    "    \n",
    "    # create a dataframe with the combinations\n",
    "    combinations_df = pd.DataFrame(columns=['Indicators', 'Percentage', 'Number of countries', 'Countries'])\n",
    "\n",
    "    # create a list with all possible combinations of indicators\n",
    "    for k in range(1, len(sdg_11_indicators)+1):\n",
    "        for combination in itertools.combinations(sdg_11_indicators, k):\n",
    "            # countries with combination not nan sdg_11_indicators such that the remaining indicators are nan \n",
    "            _nan_indicators_check = [indicator for indicator in sdg_11_indicators if indicator not in combination]\n",
    "            countries_combination_data = sdr[(sdr[list(combination)].notna().all(axis=1)) & (sdr[_nan_indicators_check].isna().all(axis=1))]['Country']\n",
    "            # number of countries with a combination\n",
    "            number_of_countries = len(countries_combination_data)\n",
    "            # compute percentage of countries with combination of indicators\n",
    "            percentage_of_countries_with_combination = np.round(number_of_countries/len(sdr)*100, 2)\n",
    "        \n",
    "            if percentage_of_countries_with_combination != 0:\n",
    "                # add to dataframe\n",
    "                combinations_df = combinations_df.append({'Indicators': combination,\n",
    "                                                            'Percentage': percentage_of_countries_with_combination,         \n",
    "                                                            'Number of countries': number_of_countries,\n",
    "                                                            'Countries': countries_combination_data}, \n",
    "                                                            ignore_index=True)\n",
    "    # add a percentage symbol for each cell of col percentage\n",
    "    combinations_df['Percentage'] = combinations_df['Percentage'].astype(str) + ' %'\n",
    "\n",
    "    # map sdg_indicators_11 to the notation and replace each one of the Indicators df\n",
    "    combinations_df['Indicators'] = combinations_df['Indicators'].apply(lambda x: [sdg_11_indicators_notation[sdg_11_indicators.index(indicator)] for indicator in x])\n",
    "    combinations_df['Indicators'] = combinations_df['Indicators'].apply(lambda x: ', '.join(x))\n",
    "\n",
    "    # add brakets to each Indicator set cell and use latex notation\n",
    "    combinations_df['Indicators'] = combinations_df['Indicators'].apply(lambda x: f'${{{x}}}$')\n",
    "\n",
    "    return combinations_df\n",
    "\n",
    "comb = table_percentage_countries_combination_indicators()\n",
    "display(comb)\n",
    "\n",
    "## print the table as latex\n",
    "# print(comb[['Indicators', 'Percentage', 'Number of countries']].to_latex(index=False))"
   ]
  },
  {
   "cell_type": "markdown",
   "metadata": {},
   "source": [
    "In order to subsequently define the fuzzy variables, we also need to know the universe of discourse of the variables. The universe of discourse of the variables that are measured in percentages will be [0, 100], by definition of percentage. We do not know that of the variable \"Annual mean concentration of particulate matter of less than 2.5 microns in diameter (PM2.5) (μg/m³)\". We will take as the lower limit of the universe of discourse the minimum value recorded for the indicator and similarly for the maximum. "
   ]
  },
  {
   "cell_type": "code",
   "execution_count": 11,
   "metadata": {},
   "outputs": [
    {
     "name": "stdout",
     "output_type": "stream",
     "text": [
      "Universe of discourse v2: [5.102, 106.121]\n"
     ]
    }
   ],
   "source": [
    "# print value of country with max value on 'Annual mean concentration of particulate matter of less than 2.5 microns in diam'\n",
    "v2 = 'Annual mean concentration of particulate matter of less than 2.5 microns in diam'\n",
    "\n",
    "min_v2 = sdr[sdr[v2] == sdr[v2].min()][v2].values[0]\n",
    "max_v2 = sdr[sdr[v2] == sdr[v2].max()][v2].values[0]\n",
    "print(f'Universe of discourse v2: [{min_v2}, {max_v2}]')\n"
   ]
  },
  {
   "cell_type": "markdown",
   "metadata": {},
   "source": [
    "# Summary <a class=\"anchor\" id=\"summary\"></a>\n",
    "\n",
    "The data have been explored for the information necessary to subsequently define the variables and the fuzzy logic inference system. \n",
    "In particular, we have:\n",
    "- Extracted the possible combinations of variables available and concluded that **8 different models** can be defined depending on the input variables. \n",
    "- Seen that only 28 countries (14.51 %) have information for all the five variables. \n",
    "- Seen that 11 countries (5.7 %) have information only for one variable, so they are marked as grey (not enough information available).\n",
    "- Conclude that most of the countries (79.79%) have missing data for at least one indicator, difficulting the modeling stage.\n",
    "- Determined the universe of discourse [5.102, 106.121] of one of the variables ('Annual mean concentration of particulate matter of less than 2.5 microns in diam'), wich was not clearly defined. "
   ]
  },
  {
   "cell_type": "markdown",
   "metadata": {},
   "source": [
    "# Session info\n"
   ]
  },
  {
   "cell_type": "code",
   "execution_count": 12,
   "metadata": {},
   "outputs": [
    {
     "name": "stdout",
     "output_type": "stream",
     "text": [
      "-----\n",
      "numpy               1.23.4\n",
      "pandas              1.5.1\n",
      "session_info        1.0.0\n",
      "-----\n",
      "IPython             8.6.0\n",
      "jupyter_client      7.4.4\n",
      "jupyter_core        4.11.2\n",
      "-----\n",
      "Python 3.8.10 (tags/v3.8.10:3d8993a, May  3 2021, 11:48:03) [MSC v.1928 64 bit (AMD64)]\n",
      "Windows-10-10.0.22000-SP0\n",
      "-----\n",
      "Session information updated at 2022-11-11 14:00\n"
     ]
    }
   ],
   "source": [
    "import session_info\n",
    "session_info.show(html=False)"
   ]
  }
 ],
 "metadata": {
  "kernelspec": {
   "display_name": "Python 3.8.10 64-bit (microsoft store)",
   "language": "python",
   "name": "python3"
  },
  "language_info": {
   "codemirror_mode": {
    "name": "ipython",
    "version": 3
   },
   "file_extension": ".py",
   "mimetype": "text/x-python",
   "name": "python",
   "nbconvert_exporter": "python",
   "pygments_lexer": "ipython3",
   "version": "3.8.10"
  },
  "orig_nbformat": 4,
  "vscode": {
   "interpreter": {
    "hash": "5284a42cea54fff1dc360a95eaf3837f8361dd48d7c6a2adc4f3e5aea0df797f"
   }
  }
 },
 "nbformat": 4,
 "nbformat_minor": 2
}
